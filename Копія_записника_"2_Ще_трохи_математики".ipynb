{
  "nbformat": 4,
  "nbformat_minor": 0,
  "metadata": {
    "colab": {
      "name": "Копія записника \"2. Ще трохи математики\"",
      "provenance": [],
      "collapsed_sections": [],
      "toc_visible": true,
      "include_colab_link": true
    },
    "kernelspec": {
      "name": "python3",
      "display_name": "Python 3"
    },
    "language_info": {
      "name": "python"
    }
  },
  "cells": [
    {
      "cell_type": "markdown",
      "metadata": {
        "id": "view-in-github",
        "colab_type": "text"
      },
      "source": [
        "<a href=\"https://colab.research.google.com/github/AlexGaraza/laba-0/blob/main/%D0%9A%D0%BE%D0%BF%D1%96%D1%8F_%D0%B7%D0%B0%D0%BF%D0%B8%D1%81%D0%BD%D0%B8%D0%BA%D0%B0_%222_%D0%A9%D0%B5_%D1%82%D1%80%D0%BE%D1%85%D0%B8_%D0%BC%D0%B0%D1%82%D0%B5%D0%BC%D0%B0%D1%82%D0%B8%D0%BA%D0%B8%22.ipynb\" target=\"_parent\"><img src=\"https://colab.research.google.com/assets/colab-badge.svg\" alt=\"Open In Colab\"/></a>"
      ]
    },
    {
      "cell_type": "markdown",
      "metadata": {
        "id": "nspjmpTrxgZS"
      },
      "source": [
        "# Ще трохи математики"
      ]
    },
    {
      "cell_type": "markdown",
      "metadata": {
        "id": "9NqHzlZ2xtID"
      },
      "source": [
        "1. Обчисліть радіус кола, знаючи його площу. Нагадаємо формулу:\n",
        "$$\n",
        "  S=\\pi*R^2 => R =\\sqrt{\\frac{S}{\\pi}}\n",
        "$$\n",
        "Для обчислення скористаємось знайомими функціями ```sqrt``` та ```pi``` з пакету ```math```.\n"
      ]
    },
    {
      "cell_type": "code",
      "metadata": {
        "colab": {
          "base_uri": "https://localhost:8080/"
        },
        "id": "csfYPusD0mWX",
        "outputId": "2fd0d9e4-9440-49e1-ea07-47c68f7b5a09"
      },
      "source": [
        "from math import sqrt,pi\n",
        "S = float(input('Введіть площу кола: '))\n",
        "r = sqrt(S/pi)\n",
        "print ('Радіус дорівнює %6.3f см' %r)"
      ],
      "execution_count": null,
      "outputs": [
        {
          "output_type": "stream",
          "name": "stdout",
          "text": [
            "Введіть площу кола: 25\n",
            "Радіус дорівнює  2.821 см\n"
          ]
        }
      ]
    },
    {
      "cell_type": "markdown",
      "metadata": {
        "id": "e7Ed3mEp11Rw"
      },
      "source": [
        "2. А тепер за зразком знайдіть в наступній комірці площу сфери та об'єм кулі. Нагадуємо формули:\n",
        "$$\n",
        "  S=4*\\pi*R^2    \n",
        "$$\n",
        "$$\n",
        "  V=\\frac{4}{3}*\\pi*R^3\n",
        "$$\n",
        "Також нагадаємо, що ступінь в Python задається так: ```**```"
      ]
    },
    {
      "cell_type": "code",
      "metadata": {
        "id": "sTFMO4Xp3fgO",
        "colab": {
          "base_uri": "https://localhost:8080/"
        },
        "outputId": "1221fa7f-6c6f-49b5-a603-d535060c9e39"
      },
      "source": [
        "from math import sqrt,pi\n",
        "R = float(input('Введіть радіус кола: '))\n",
        "S = (4*pi*R**2)\n",
        "print ('Площа дорівнює %6.3f см' %S)\n",
        "\n",
        "from math import sqrt,pi\n",
        "R = float(input('Введіть радіус кулі: '))\n",
        "V = (4/3*pi*R**3)\n",
        "print ('Обєм дорівнює %6.3f см' %V)"
      ],
      "execution_count": null,
      "outputs": [
        {
          "output_type": "stream",
          "name": "stdout",
          "text": [
            "Введіть радіус кола: 10\n",
            "Площа дорівнює 1256.637 см\n",
            "Введіть радіус кулі: 5\n",
            "Обєм дорівнює 523.599 см\n"
          ]
        }
      ]
    },
    {
      "cell_type": "markdown",
      "metadata": {
        "id": "Ki46Slel5ASd"
      },
      "source": [
        "3. А ще давайте переведемо температуру за Фаренгейтом у градуси Цельсія і навпаки. Формули тут надзвичайно прості:\n",
        "$$\n",
        "  C=(F-32)*0.5556\n",
        "$$\n",
        "$$\n",
        "  F=C*1.8+32\n",
        "$$\n",
        "Спробуйте в наступній комірці! Пам'ятайте про \"красиве\" введення і виведення даних."
      ]
    },
    {
      "cell_type": "code",
      "metadata": {
        "id": "8yhfAwYm5E_z",
        "colab": {
          "base_uri": "https://localhost:8080/"
        },
        "outputId": "9314f03e-0757-4215-df1c-932020242c75"
      },
      "source": [
        "from math import sqrt,pi\n",
        "C = float(input('Введіть Celsiy: '))\n",
        "F = float(input('Введіть Faringeyt: '))\n",
        "CF= (C*1.8+32) \n",
        "FC= (F-32)*0.5556\n",
        "print ('Celsiy to Faringyet %6.3f ' %CF)\n",
        "print ('Faringyet to Celsiy %6.3f ' %FC)"
      ],
      "execution_count": null,
      "outputs": [
        {
          "output_type": "stream",
          "name": "stdout",
          "text": [
            "Введіть Celsiy: 120\n",
            "Введіть Faringeyt: 150\n",
            "Celsiy to Faringyet 248.000 \n",
            "Faringyet to Celsiy 65.561 \n"
          ]
        }
      ]
    },
    {
      "cell_type": "markdown",
      "metadata": {
        "id": "rnapogmC6dta"
      },
      "source": [
        "Ще більше простих вправ з Python - [тут](https://www.w3resource.com/python-exercises/python-basic-exercises.php)"
      ]
    }
  ]
}